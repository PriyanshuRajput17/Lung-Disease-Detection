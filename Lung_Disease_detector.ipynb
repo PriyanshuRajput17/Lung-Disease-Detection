{
 "cells": [
  {
   "cell_type": "markdown",
   "metadata": {
    "id": "3DR-eO17geWu"
   },
   "source": [
    "# Convolutional Neural Network"
   ]
  },
  {
   "cell_type": "markdown",
   "metadata": {
    "id": "EMefrVPCg-60"
   },
   "source": [
    "### Importing the libraries"
   ]
  },
  {
   "cell_type": "code",
   "execution_count": 1,
   "metadata": {
    "id": "sCV30xyVhFbE"
   },
   "outputs": [
    {
     "name": "stdout",
     "output_type": "stream",
     "text": [
      "WARNING:tensorflow:From C:\\Users\\HP\\anaconda3\\Lib\\site-packages\\keras\\src\\losses.py:2976: The name tf.losses.sparse_softmax_cross_entropy is deprecated. Please use tf.compat.v1.losses.sparse_softmax_cross_entropy instead.\n",
      "\n"
     ]
    }
   ],
   "source": [
    "import tensorflow as tf\n",
    "from tensorflow.keras.models import Sequential\n",
    "from tensorflow.keras.layers import Conv2D, MaxPooling2D, Flatten, Dense, Dropout\n",
    "from tensorflow.keras.preprocessing.image import ImageDataGenerator"
   ]
  },
  {
   "cell_type": "markdown",
   "metadata": {
    "id": "oxQxCBWyoGPE"
   },
   "source": [
    "## Part 1 - Data Preprocessing"
   ]
  },
  {
   "cell_type": "markdown",
   "metadata": {
    "id": "MvE-heJNo3GG"
   },
   "source": [
    "### Preprocessing the Training set"
   ]
  },
  {
   "cell_type": "code",
   "execution_count": 2,
   "metadata": {
    "id": "0koUcJMJpEBD"
   },
   "outputs": [
    {
     "name": "stdout",
     "output_type": "stream",
     "text": [
      "Found 6054 images belonging to 5 classes.\n"
     ]
    }
   ],
   "source": [
    "IMAGE_SIZE = (150, 150)\n",
    "BATCH_SIZE = 32\n",
    "\n",
    "train_data_dir = r\"C:\\Users\\HP\\Downloads\\DiseaseDetection\\Lung Disease Dataset\\train\"\n",
    "validation_data_dir = r\"C:\\Users\\HP\\Downloads\\DiseaseDetection\\Lung Disease Dataset\\val\"\n",
    "test_data_dir = r\"C:\\Users\\HP\\Downloads\\DiseaseDetection\\Lung Disease Dataset\\test\"\n",
    "\n",
    "train_datagen = ImageDataGenerator(\n",
    "    rescale=1./255,\n",
    "    shear_range=0.2,\n",
    "    zoom_range=0.2,\n",
    "    horizontal_flip=True\n",
    ")\n",
    "\n",
    "# Flow training images in batches using train_datagen generator\n",
    "train_generator = train_datagen.flow_from_directory(\n",
    "    train_data_dir,\n",
    "    target_size=IMAGE_SIZE,\n",
    "    batch_size=BATCH_SIZE,\n",
    "    class_mode='categorical'\n",
    ")"
   ]
  },
  {
   "cell_type": "markdown",
   "metadata": {
    "id": "mrCMmGw9pHys"
   },
   "source": [
    "### Preprocessing the Test set and Validation Set"
   ]
  },
  {
   "cell_type": "code",
   "execution_count": 3,
   "metadata": {
    "id": "SH4WzfOhpKc3"
   },
   "outputs": [
    {
     "name": "stdout",
     "output_type": "stream",
     "text": [
      "Found 2016 images belonging to 5 classes.\n",
      "Found 2025 images belonging to 5 classes.\n"
     ]
    }
   ],
   "source": [
    "validation_datagen = ImageDataGenerator(rescale=1./255)\n",
    "\n",
    "test_datagen = ImageDataGenerator(rescale=1./255)\n",
    "\n",
    "# Flow validation images in batches using validation_datagen generator\n",
    "validation_generator = validation_datagen.flow_from_directory(\n",
    "    validation_data_dir,\n",
    "    target_size=IMAGE_SIZE,\n",
    "    batch_size=BATCH_SIZE,\n",
    "    class_mode='categorical'\n",
    ")\n",
    "\n",
    "# Flow test images in batches using test_datagen generator\n",
    "test_generator = test_datagen.flow_from_directory(\n",
    "    test_data_dir,\n",
    "    target_size=IMAGE_SIZE,\n",
    "    batch_size=BATCH_SIZE,\n",
    "    class_mode='categorical'\n",
    ")"
   ]
  },
  {
   "cell_type": "markdown",
   "metadata": {
    "id": "af8O4l90gk7B"
   },
   "source": [
    "## Part 2 - Building the CNN"
   ]
  },
  {
   "cell_type": "markdown",
   "metadata": {
    "id": "ces1gXY2lmoX"
   },
   "source": [
    "### Initialising the CNN"
   ]
  },
  {
   "cell_type": "code",
   "execution_count": 4,
   "metadata": {
    "id": "SAUt4UMPlhLS"
   },
   "outputs": [
    {
     "name": "stdout",
     "output_type": "stream",
     "text": [
      "WARNING:tensorflow:From C:\\Users\\HP\\anaconda3\\Lib\\site-packages\\keras\\src\\backend.py:873: The name tf.get_default_graph is deprecated. Please use tf.compat.v1.get_default_graph instead.\n",
      "\n"
     ]
    }
   ],
   "source": [
    "model = Sequential()"
   ]
  },
  {
   "cell_type": "markdown",
   "metadata": {
    "id": "u5YJj_XMl5LF"
   },
   "source": [
    "### Step 1 - Convolution"
   ]
  },
  {
   "cell_type": "code",
   "execution_count": 5,
   "metadata": {
    "id": "XPzPrMckl-hV"
   },
   "outputs": [],
   "source": [
    "model.add(Conv2D(32, (3, 3), activation='relu', input_shape=(150, 150, 3)))"
   ]
  },
  {
   "cell_type": "markdown",
   "metadata": {
    "id": "tf87FpvxmNOJ"
   },
   "source": [
    "### Step 2 - Pooling"
   ]
  },
  {
   "cell_type": "code",
   "execution_count": 6,
   "metadata": {
    "id": "ncpqPl69mOac"
   },
   "outputs": [
    {
     "name": "stdout",
     "output_type": "stream",
     "text": [
      "WARNING:tensorflow:From C:\\Users\\HP\\anaconda3\\Lib\\site-packages\\keras\\src\\layers\\pooling\\max_pooling2d.py:161: The name tf.nn.max_pool is deprecated. Please use tf.nn.max_pool2d instead.\n",
      "\n"
     ]
    }
   ],
   "source": [
    "model.add(MaxPooling2D(pool_size=(2, 2)))"
   ]
  },
  {
   "cell_type": "markdown",
   "metadata": {
    "id": "xaTOgD8rm4mU"
   },
   "source": [
    "### Adding more convolutional layers"
   ]
  },
  {
   "cell_type": "code",
   "execution_count": 7,
   "metadata": {
    "id": "i_-FZjn_m8gk"
   },
   "outputs": [],
   "source": [
    "model.add(Conv2D(64, (3, 3), activation='relu'))\n",
    "model.add(MaxPooling2D(pool_size=(2, 2)))\n",
    "\n",
    "model.add(Conv2D(128, (3, 3), activation='relu'))\n",
    "model.add(MaxPooling2D(pool_size=(2, 2)))"
   ]
  },
  {
   "cell_type": "markdown",
   "metadata": {
    "id": "tmiEuvTunKfk"
   },
   "source": [
    "### Step 3 - Flattening"
   ]
  },
  {
   "cell_type": "code",
   "execution_count": 8,
   "metadata": {
    "id": "6AZeOGCvnNZn"
   },
   "outputs": [],
   "source": [
    "model.add(Flatten())"
   ]
  },
  {
   "cell_type": "markdown",
   "metadata": {
    "id": "dAoSECOm203v"
   },
   "source": [
    "### Step 4 - Full Connection"
   ]
  },
  {
   "cell_type": "code",
   "execution_count": 9,
   "metadata": {
    "id": "8GtmUlLd26Nq"
   },
   "outputs": [],
   "source": [
    "model.add(Dense(256, activation='relu'))\n",
    "model.add(Dropout(0.5))"
   ]
  },
  {
   "cell_type": "markdown",
   "metadata": {
    "id": "yTldFvbX28Na"
   },
   "source": [
    "### Step 5 - Output Layer"
   ]
  },
  {
   "cell_type": "code",
   "execution_count": 10,
   "metadata": {
    "id": "1p_Zj1Mc3Ko_"
   },
   "outputs": [],
   "source": [
    "model.add(Dense(5, activation='softmax'))"
   ]
  },
  {
   "cell_type": "markdown",
   "metadata": {
    "id": "D6XkI90snSDl"
   },
   "source": [
    "## Part 3 - Training the CNN"
   ]
  },
  {
   "cell_type": "markdown",
   "metadata": {
    "id": "vfrFQACEnc6i"
   },
   "source": [
    "### Compiling the CNN"
   ]
  },
  {
   "cell_type": "code",
   "execution_count": 11,
   "metadata": {
    "id": "NALksrNQpUlJ"
   },
   "outputs": [
    {
     "name": "stdout",
     "output_type": "stream",
     "text": [
      "WARNING:tensorflow:From C:\\Users\\HP\\anaconda3\\Lib\\site-packages\\keras\\src\\optimizers\\__init__.py:309: The name tf.train.Optimizer is deprecated. Please use tf.compat.v1.train.Optimizer instead.\n",
      "\n"
     ]
    }
   ],
   "source": [
    "model.compile(optimizer='adam', loss='categorical_crossentropy', metrics=['accuracy'])"
   ]
  },
  {
   "cell_type": "markdown",
   "metadata": {
    "id": "ehS-v3MIpX2h"
   },
   "source": [
    "### Training the CNN on the Training set and evaluating it on the Test set"
   ]
  },
  {
   "cell_type": "code",
   "execution_count": 13,
   "metadata": {
    "id": "XUj1W4PJptta"
   },
   "outputs": [
    {
     "name": "stdout",
     "output_type": "stream",
     "text": [
      "Epoch 1/20\n",
      "189/189 [==============================] - 306s 2s/step - loss: 0.8091 - accuracy: 0.6757 - val_loss: 0.6065 - val_accuracy: 0.7530\n",
      "Epoch 2/20\n",
      "189/189 [==============================] - 310s 2s/step - loss: 0.7066 - accuracy: 0.7132 - val_loss: 0.5712 - val_accuracy: 0.7748\n",
      "Epoch 3/20\n",
      "189/189 [==============================] - 318s 2s/step - loss: 0.6480 - accuracy: 0.7385 - val_loss: 0.5177 - val_accuracy: 0.7902\n",
      "Epoch 4/20\n",
      "189/189 [==============================] - 314s 2s/step - loss: 0.6656 - accuracy: 0.7323 - val_loss: 0.5149 - val_accuracy: 0.7842\n",
      "Epoch 5/20\n",
      "189/189 [==============================] - 319s 2s/step - loss: 0.5863 - accuracy: 0.7579 - val_loss: 0.5115 - val_accuracy: 0.7946\n",
      "Epoch 6/20\n",
      "189/189 [==============================] - 306s 2s/step - loss: 0.5797 - accuracy: 0.7605 - val_loss: 0.4843 - val_accuracy: 0.8070\n",
      "Epoch 7/20\n",
      "189/189 [==============================] - 290s 2s/step - loss: 0.5467 - accuracy: 0.7767 - val_loss: 0.5073 - val_accuracy: 0.7857\n",
      "Epoch 8/20\n",
      "189/189 [==============================] - 318s 2s/step - loss: 0.5356 - accuracy: 0.7781 - val_loss: 0.4533 - val_accuracy: 0.8140\n",
      "Epoch 9/20\n",
      "189/189 [==============================] - 310s 2s/step - loss: 0.5195 - accuracy: 0.7924 - val_loss: 0.6454 - val_accuracy: 0.7321\n",
      "Epoch 10/20\n",
      "189/189 [==============================] - 295s 2s/step - loss: 0.5378 - accuracy: 0.7821 - val_loss: 0.5302 - val_accuracy: 0.7941\n",
      "Epoch 11/20\n",
      "189/189 [==============================] - 309s 2s/step - loss: 0.4908 - accuracy: 0.7982 - val_loss: 0.4466 - val_accuracy: 0.8155\n",
      "Epoch 12/20\n",
      "189/189 [==============================] - 316s 2s/step - loss: 0.4672 - accuracy: 0.8084 - val_loss: 0.4346 - val_accuracy: 0.8284\n",
      "Epoch 13/20\n",
      "189/189 [==============================] - 307s 2s/step - loss: 0.4604 - accuracy: 0.8120 - val_loss: 0.4199 - val_accuracy: 0.8289\n",
      "Epoch 14/20\n",
      "189/189 [==============================] - 306s 2s/step - loss: 0.4408 - accuracy: 0.8142 - val_loss: 0.4260 - val_accuracy: 0.8304\n",
      "Epoch 15/20\n",
      "189/189 [==============================] - 286s 2s/step - loss: 0.4335 - accuracy: 0.8187 - val_loss: 0.4292 - val_accuracy: 0.8294\n",
      "Epoch 16/20\n",
      "189/189 [==============================] - 308s 2s/step - loss: 0.4234 - accuracy: 0.8248 - val_loss: 0.4196 - val_accuracy: 0.8318\n",
      "Epoch 17/20\n",
      "189/189 [==============================] - 316s 2s/step - loss: 0.4107 - accuracy: 0.8315 - val_loss: 0.4883 - val_accuracy: 0.8140\n",
      "Epoch 18/20\n",
      "189/189 [==============================] - 305s 2s/step - loss: 0.4103 - accuracy: 0.8288 - val_loss: 0.4009 - val_accuracy: 0.8403\n",
      "Epoch 19/20\n",
      "189/189 [==============================] - 307s 2s/step - loss: 0.4036 - accuracy: 0.8288 - val_loss: 0.5139 - val_accuracy: 0.8021\n",
      "Epoch 20/20\n",
      "189/189 [==============================] - 321s 2s/step - loss: 0.4029 - accuracy: 0.8296 - val_loss: 0.4077 - val_accuracy: 0.8348\n"
     ]
    }
   ],
   "source": [
    "history = model.fit(\n",
    "    train_generator,\n",
    "    steps_per_epoch=train_generator.samples // BATCH_SIZE,\n",
    "    epochs=20,\n",
    "    validation_data=validation_generator,\n",
    "    validation_steps=validation_generator.samples // BATCH_SIZE\n",
    ")"
   ]
  },
  {
   "cell_type": "code",
   "execution_count": 14,
   "metadata": {},
   "outputs": [],
   "source": [
    "model.save(r'C:\\Users\\HP\\Downloads\\DiseaseDetection\\lung_disease_model.keras')"
   ]
  },
  {
   "cell_type": "markdown",
   "metadata": {
    "id": "eyqlEy3bPKzf"
   },
   "source": [
    "### Evaluating the Model"
   ]
  },
  {
   "cell_type": "code",
   "execution_count": 15,
   "metadata": {
    "id": "TyJ--jxjPVq7"
   },
   "outputs": [
    {
     "name": "stdout",
     "output_type": "stream",
     "text": [
      "63/63 [==============================] - 47s 740ms/step - loss: 0.4072 - accuracy: 0.8348\n",
      "Test Accuracy: 83.48%\n"
     ]
    }
   ],
   "source": [
    "test_loss, test_acc = model.evaluate(test_generator, steps=test_generator.samples // BATCH_SIZE)\n",
    "print(f\"Test Accuracy: {test_acc * 100:.2f}%\")"
   ]
  },
  {
   "cell_type": "markdown",
   "metadata": {
    "id": "Ux-MD1l-Pccp"
   },
   "source": [
    "### Visualization of result"
   ]
  },
  {
   "cell_type": "code",
   "execution_count": 16,
   "metadata": {
    "id": "RoF5Ak1HPc-H"
   },
   "outputs": [
    {
     "data": {
      "image/png": "[encoded data removed]",
      "text/plain": [
       "<Figure size 640x480 with 1 Axes>"
      ]
     },
     "metadata": {},
     "output_type": "display_data"
    }
   ],
   "source": [
    "import matplotlib.pyplot as plt\n",
    "\n",
    "plt.plot(history.history['accuracy'], label='Training Accuracy')\n",
    "plt.plot(history.history['val_accuracy'], label='Validation Accuracy')\n",
    "plt.xlabel('Epoch')\n",
    "plt.ylabel('Accuracy')\n",
    "plt.legend()\n",
    "plt.show()\n"
   ]
  },
  {
   "cell_type": "code",
   "execution_count": 17,
   "metadata": {},
   "outputs": [
    {
     "name": "stdout",
     "output_type": "stream",
     "text": [
      "Class indices: {'Bacterial Pneumonia': 0, 'Corona Virus Disease': 1, 'Normal': 2, 'Tuberculosis': 3, 'Viral Pneumonia': 4}\n"
     ]
    }
   ],
   "source": [
    "print(\"Class indices:\", train_generator.class_indices)"
   ]
  },
  {
   "cell_type": "markdown",
   "metadata": {
    "id": "U3PZasO0006Z"
   },
   "source": [
    "## Part 4 - Making a single prediction"
   ]
  },
  {
   "cell_type": "code",
   "execution_count": 33,
   "metadata": {
    "id": "gsSiWEJY1BPB"
   },
   "outputs": [
    {
     "name": "stdout",
     "output_type": "stream",
     "text": [
      "1/1 [==============================] - 0s 373ms/step\n",
      "The predicted category for the single image is: Corona Virus Disease\n",
      "Confidence Percentage: 99.92%\n"
     ]
    }
   ],
   "source": [
    "import numpy as np\n",
    "from tensorflow.keras.preprocessing import image\n",
    "\n",
    "# Load the saved model\n",
    "model = tf.keras.models.load_model(r\"C:\\Users\\HP\\Downloads\\DiseaseDetection\\lung_disease_model.keras\")\n",
    "\n",
    "# Load a single test image for prediction\n",
    "single_image_path = r\"C:\\Users\\HP\\Downloads\\DiseaseDetection\\Lung Disease Dataset\\test\\Corona Virus Disease\\COVID19(275).jpg\"  # Replace with the path to your single image\n",
    "single_img = image.load_img(single_image_path, target_size=(150, 150))\n",
    "single_img_array = image.img_to_array(single_img)\n",
    "single_img_array = np.expand_dims(single_img_array, axis=0)\n",
    "single_img_array /= 255.0  # Normalize pixel values to be between 0 and 1\n",
    "\n",
    "# Make the prediction\n",
    "prediction = model.predict(single_img_array)\n",
    "\n",
    "# Get the predicted class and confidence percentage\n",
    "predicted_class = np.argmax(prediction)\n",
    "confidence_percentage = np.max(prediction) * 100\n",
    "\n",
    "# Map the class index to the actual label\n",
    "class_labels ={0:'Bacterial Pneumonia',1:'Corona Virus Disease',2:'Normal',3:'Tuberculosis',4:'Viral Pneumonia'}\n",
    "predicted_label = class_labels[predicted_class]\n",
    "\n",
    "print(f\"The predicted category for the single image is: {predicted_label}\")\n",
    "print(f\"Confidence Percentage: {confidence_percentage:.2f}%\")"
   ]
  },
  {
   "cell_type": "code",
   "execution_count": null,
   "metadata": {},
   "outputs": [],
   "source": []
  }
 ],
 "metadata": {
  "colab": {
   "provenance": [],
   "toc_visible": true
  },
  "kernelspec": {
   "display_name": "Python 3 (ipykernel)",
   "language": "python",
   "name": "python3"
  },
  "language_info": {
   "codemirror_mode": {
    "name": "ipython",
    "version": 3
   },
   "file_extension": ".py",
   "mimetype": "text/x-python",
   "name": "python",
   "nbconvert_exporter": "python",
   "pygments_lexer": "ipython3",
   "version": "3.11.5"
  }
 },
 "nbformat": 4,
 "nbformat_minor": 1
}
